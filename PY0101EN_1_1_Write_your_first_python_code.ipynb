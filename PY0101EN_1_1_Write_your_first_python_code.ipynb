{
  "cells": [
    {
      "cell_type": "markdown",
      "metadata": {
        "id": "view-in-github",
        "colab_type": "text"
      },
      "source": [
        "<a href=\"https://colab.research.google.com/github/GuillermoCalderon23/ProgramacionAD/blob/main/PY0101EN_1_1_Write_your_first_python_code.ipynb\" target=\"_parent\"><img src=\"https://colab.research.google.com/assets/colab-badge.svg\" alt=\"Open In Colab\"/></a>"
      ]
    },
    {
      "cell_type": "markdown",
      "metadata": {
        "id": "eJau_AH6_AFz"
      },
      "source": [
        "<p style=\"text-align:center\">\n",
        "    <a href=\"https://skills.network/?utm_medium=Exinfluencer&utm_source=Exinfluencer&utm_content=000026UJ&utm_term=10006555&utm_id=NA-SkillsNetwork-Channel-SkillsNetworkCoursesIBMDeveloperSkillsNetworkPY0101ENSkillsNetwork19487395-2022-01-01\" target=\"_blank\">\n",
        "    <img src=\"https://cf-courses-data.s3.us.cloud-object-storage.appdomain.cloud/assets/logos/SN_web_lightmode.png\" width=\"200\" alt=\"Skills Network Logo\"  />\n",
        "    </a>\n",
        "</p>\n",
        "\n",
        "# Writing Your First Python Code\n",
        "\n",
        "Estimated time needed: **25** minutes\n",
        "\n",
        "## Objectives\n",
        "\n",
        "After completing this lab you will be able to:\n",
        "\n",
        "*   Write basic code in Python\n",
        "*   Work with various types of data in Python\n",
        "*   Convert the data from one type to another\n",
        "*   Use expressions and variables to perform operations\n"
      ]
    },
    {
      "cell_type": "markdown",
      "metadata": {
        "id": "jZu0icId_AF1"
      },
      "source": [
        "<h2>Table of Contents</h2>\n",
        "<div class=\"alert alert-block alert-info\" style=\"margin-top: 20px\">\n",
        "    <ul>\n",
        "        <li>\n",
        "            <a href=\"https://#hello\">Say \"Hello\" to the world in Python</a>\n",
        "            <ul>\n",
        "                <li><a href=\"https://version/?utm_medium=Exinfluencer&utm_source=Exinfluencer&utm_content=000026UJ&utm_term=10006555&utm_id=NA-SkillsNetwork-Channel-SkillsNetworkCoursesIBMDeveloperSkillsNetworkPY0101ENSkillsNetwork19487395-2022-01-01\">What version of Python are we using?</a></li>\n",
        "                <li><a href=\"https://comments/?utm_medium=Exinfluencer&utm_source=Exinfluencer&utm_content=000026UJ&utm_term=10006555&utm_id=NA-SkillsNetwork-Channel-SkillsNetworkCoursesIBMDeveloperSkillsNetworkPY0101ENSkillsNetwork19487395-2022-01-01\">Writing comments in Python</a></li>\n",
        "                <li><a href=\"https://errors/?utm_medium=Exinfluencer&utm_source=Exinfluencer&utm_content=000026UJ&utm_term=10006555&utm_id=NA-SkillsNetwork-Channel-SkillsNetworkCoursesIBMDeveloperSkillsNetworkPY0101ENSkillsNetwork19487395-2022-01-01\">Errors in Python</a></li>\n",
        "                <li><a href=\"https://python_error/?utm_medium=Exinfluencer&utm_source=Exinfluencer&utm_content=000026UJ&utm_term=10006555&utm_id=NA-SkillsNetwork-Channel-SkillsNetworkCoursesIBMDeveloperSkillsNetworkPY0101ENSkillsNetwork19487395-2022-01-01\">Does Python know about your error before it runs your code?</a></li>\n",
        "                <li><a href=\"https://exercise/?utm_medium=Exinfluencer&utm_source=Exinfluencer&utm_content=000026UJ&utm_term=10006555&utm_id=NA-SkillsNetwork-Channel-SkillsNetworkCoursesIBMDeveloperSkillsNetworkPY0101ENSkillsNetwork19487395-2022-01-01\">Exercise: Your First Program</a></li>\n",
        "            </ul>\n",
        "        </li>\n",
        "        <li>\n",
        "            <a href=\"https://#types_objects\">Types of objects in Python</a>\n",
        "            <ul>\n",
        "                <li><a href=\"https://int/?utm_medium=Exinfluencer&utm_source=Exinfluencer&utm_content=000026UJ&utm_term=10006555&utm_id=NA-SkillsNetwork-Channel-SkillsNetworkCoursesIBMDeveloperSkillsNetworkPY0101ENSkillsNetwork19487395-2022-01-01\">Integers</a></li>\n",
        "                <li><a href=\"https://float/?utm_medium=Exinfluencer&utm_source=Exinfluencer&utm_content=000026UJ&utm_term=10006555&utm_id=NA-SkillsNetwork-Channel-SkillsNetworkCoursesIBMDeveloperSkillsNetworkPY0101ENSkillsNetwork19487395-2022-01-01\">Floats</a></li>\n",
        "                <li><a href=\"https://convert/?utm_medium=Exinfluencer&utm_source=Exinfluencer&utm_content=000026UJ&utm_term=10006555&utm_id=NA-SkillsNetwork-Channel-SkillsNetworkCoursesIBMDeveloperSkillsNetworkPY0101ENSkillsNetwork19487395-2022-01-01\">Converting from one object type to a different object type</a></li>\n",
        "                <li><a href=\"https://bool/?utm_medium=Exinfluencer&utm_source=Exinfluencer&utm_content=000026UJ&utm_term=10006555&utm_id=NA-SkillsNetwork-Channel-SkillsNetworkCoursesIBMDeveloperSkillsNetworkPY0101ENSkillsNetwork19487395-2022-01-01\">Boolean data type</a></li>\n",
        "                <li><a href=\"https://exer_type/?utm_medium=Exinfluencer&utm_source=Exinfluencer&utm_content=000026UJ&utm_term=10006555&utm_id=NA-SkillsNetwork-Channel-SkillsNetworkCoursesIBMDeveloperSkillsNetworkPY0101ENSkillsNetwork19487395-2022-01-01\">Exercise: Types</a></li>\n",
        "            </ul>\n",
        "        </li>\n",
        "        <li>\n",
        "            <a href=\"https://#https://exp/?utm_medium=Exinfluencer&utm_source=Exinfluencer&utm_content=000026UJ&utm_term=10006555&utm_id=NA-SkillsNetwork-Channel-SkillsNetworkCoursesIBMDeveloperSkillsNetworkPY0101ENSkillsNetwork19487395-2022-01-01ressions\">Expressions and Variables</a>\n",
        "            <ul>\n",
        "                <li><a href=\"exp\">Expressions</a></li>\n",
        "                <li><a href=\"https://exer_exp/?utm_medium=Exinfluencer&utm_source=Exinfluencer&utm_content=000026UJ&utm_term=10006555&utm_id=NA-SkillsNetwork-Channel-SkillsNetworkCoursesIBMDeveloperSkillsNetworkPY0101ENSkillsNetwork19487395-2022-01-01\">Exercise: Expressions</a></li>\n",
        "                <li><a href=\"https://var/?utm_medium=Exinfluencer&utm_source=Exinfluencer&utm_content=000026UJ&utm_term=10006555&utm_id=NA-SkillsNetwork-Channel-SkillsNetworkCoursesIBMDeveloperSkillsNetworkPY0101ENSkillsNetwork19487395-2022-01-01\">Variables</a></li>\n",
        "                <li><a href=\"https://exer_exp_var/?utm_medium=Exinfluencer&utm_source=Exinfluencer&utm_content=000026UJ&utm_term=10006555&utm_id=NA-SkillsNetwork-Channel-SkillsNetworkCoursesIBMDeveloperSkillsNetworkPY0101ENSkillsNetwork19487395-2022-01-01\">Exercise: Expression and Variables in Python</a></li>\n",
        "            </ul>\n",
        "        </li>\n",
        "    </ul>\n",
        "    <p>\n",
        "        Estimated time needed: <strong>25 min</strong>\n",
        "    </p>\n",
        "</div>\n",
        "\n",
        "<hr>\n"
      ]
    },
    {
      "cell_type": "markdown",
      "metadata": {
        "id": "B6rm1X8g_AF2"
      },
      "source": [
        "<h2 id=\"hello\">Say \"Hello\" to the world in Python</h2>\n"
      ]
    },
    {
      "cell_type": "markdown",
      "metadata": {
        "id": "x2-_d9Al_AF2"
      },
      "source": [
        "When learning a new programming language, it is customary to start with an \"hello world\" example. As simple as it is, this one line of code will ensure that we know how to print a string in output and how to execute code within cells in a notebook.\n"
      ]
    },
    {
      "cell_type": "markdown",
      "metadata": {
        "id": "Z_76cMzD_AF3"
      },
      "source": [
        "<hr/>\n",
        "<div class=\"alert alert-success alertsuccess\" style=\"margin-top: 20px\">\n",
        "[Tip]: To execute the Python code in the code cell below, click on the cell to select it and press <kbd>Shift</kbd> + <kbd>Enter</kbd>.\n",
        "</div>\n",
        "<hr/>\n"
      ]
    },
    {
      "cell_type": "code",
      "execution_count": null,
      "metadata": {
        "colab": {
          "base_uri": "https://localhost:8080/"
        },
        "id": "tHGLIPac_AF3",
        "outputId": "d23aba03-8d51-4223-d022-6cc584cf8e0f"
      },
      "outputs": [
        {
          "output_type": "stream",
          "name": "stdout",
          "text": [
            "Hello, Python!\n"
          ]
        }
      ],
      "source": [
        "# Try your first Python output\n",
        "\n",
        "print('Hello, Python!')"
      ]
    },
    {
      "cell_type": "markdown",
      "metadata": {
        "id": "Iep3q4-u_AF4"
      },
      "source": [
        "After executing the cell above, you should see that Python prints <code>Hello, Python!</code>. Congratulations on running your first Python code!\n"
      ]
    },
    {
      "cell_type": "markdown",
      "metadata": {
        "id": "cr6ld-xZ_AF4"
      },
      "source": [
        "<hr/>\n",
        "<div class=\"alert alert-success alertsuccess\" style=\"margin-top: 20px\">\n",
        "    [Tip:] <code>print()</code> is a function. You passed the string <code>'Hello, Python!'</code> as an argument to instruct Python on what to print.\n",
        "</div>\n",
        "<hr/>\n"
      ]
    },
    {
      "cell_type": "markdown",
      "metadata": {
        "id": "34Nq9YTl_AF4"
      },
      "source": [
        "<h3 id=\"version\">What version of Python are we using?</h3>\n"
      ]
    },
    {
      "cell_type": "markdown",
      "metadata": {
        "id": "hLNeQ9pB_AF4"
      },
      "source": [
        "<p>\n",
        "    There are two popular versions of the Python programming language in use today: Python 2 and Python 3. The Python community has decided to move on from Python 2 to Python 3, and many popular libraries have announced that they will no longer support Python 2.\n",
        "</p>\n",
        "<p>\n",
        "    Since Python 3 is the future, in this course we will be using it exclusively. How do we know that our notebook is executed by a Python 3 runtime? We can look in the top-right hand corner of this notebook and see \"Python 3\".\n",
        "</p>\n",
        "<p>\n",
        "    We can also ask Python directly and obtain a detailed answer. Try executing the following code:\n",
        "</p>\n"
      ]
    },
    {
      "cell_type": "code",
      "execution_count": null,
      "metadata": {
        "colab": {
          "base_uri": "https://localhost:8080/"
        },
        "id": "wRgBQJYz_AF5",
        "outputId": "e88264ed-335a-4253-e819-55d68b0c5d37"
      },
      "outputs": [
        {
          "output_type": "stream",
          "name": "stdout",
          "text": [
            "3.8.10 (default, Nov 14 2022, 12:59:47) \n",
            "[GCC 9.4.0]\n"
          ]
        }
      ],
      "source": [
        "# Check the Python Version\n",
        "\n",
        "import sys\n",
        "print(sys.version)"
      ]
    },
    {
      "cell_type": "markdown",
      "metadata": {
        "id": "A5V7rVpI_AF5"
      },
      "source": [
        "<hr/>\n",
        "<div class=\"alert alert-success alertsuccess\" style=\"margin-top: 20px\">\n",
        "    [Tip:] <code>sys</code> is a built-in module that contains many system-specific parameters and functions, including the Python version in use. Before using it, we must explictly <code>import</code> it.\n",
        "</div>\n",
        "<hr/>\n"
      ]
    },
    {
      "cell_type": "markdown",
      "metadata": {
        "id": "fCmuAeLc_AF5"
      },
      "source": [
        "<h3 id=\"comments\">Writing comments in Python</h3>\n"
      ]
    },
    {
      "cell_type": "markdown",
      "metadata": {
        "id": "bRSfxITU_AF5"
      },
      "source": [
        "<p>\n",
        "    In addition to writing code, note that it's always a good idea to add comments to your code. It will help others understand what you were trying to accomplish (the reason why you wrote a given snippet of code). Not only does this help <strong>other people</strong> understand your code, it can also serve as a reminder <strong>to you</strong> when you come back to it weeks or months later.</p>\n",
        "\n",
        "<p>\n",
        "    To write comments in Python, use the number symbol <code>#</code> before writing your comment. When you run your code, Python will ignore everything past the <code>#</code> on a given line.\n",
        "</p>\n"
      ]
    },
    {
      "cell_type": "code",
      "execution_count": null,
      "metadata": {
        "colab": {
          "base_uri": "https://localhost:8080/"
        },
        "id": "cA-2jED-_AF5",
        "outputId": "52911f9a-655e-4a19-abf5-b690917f8a97"
      },
      "outputs": [
        {
          "output_type": "stream",
          "name": "stdout",
          "text": [
            "Hello, Python!\n"
          ]
        }
      ],
      "source": [
        "# Practice on writing comments\n",
        "\n",
        "print('Hello, Python!') # This line prints a string\n",
        "# print('Hi')"
      ]
    },
    {
      "cell_type": "markdown",
      "metadata": {
        "id": "gEqIr-rs_AF5"
      },
      "source": [
        "<p>\n",
        "    After executing the cell above, you should notice that <code>This line prints a string</code> did not appear in the output, because it was a comment (and thus ignored by Python).\n",
        "</p>\n",
        "<p>\n",
        "    The second line was also not executed because <code>print('Hi')</code> was preceded by the number sign (<code>#</code>) as well! Since this isn't an explanatory comment from the programmer, but an actual line of code, we might say that the programmer <em>commented out</em> that second line of code.\n",
        "</p>\n"
      ]
    },
    {
      "cell_type": "markdown",
      "metadata": {
        "id": "YPKAulo__AF5"
      },
      "source": [
        "<h3 id=\"errors\">Errors in Python</h3>\n"
      ]
    },
    {
      "cell_type": "markdown",
      "metadata": {
        "id": "xeJ3ksm__AF6"
      },
      "source": [
        "<p>Everyone makes mistakes. For many types of mistakes, Python will tell you that you have made a mistake by giving you an error message. It is important to read error messages carefully to really understand where you made a mistake and how you may go about correcting it.</p>\n",
        "<p>For example, if you spell <code>print</code> as <code>frint</code>, Python will display an error message. Give it a try:</p>\n"
      ]
    },
    {
      "cell_type": "code",
      "execution_count": null,
      "metadata": {
        "colab": {
          "base_uri": "https://localhost:8080/"
        },
        "id": "6OBz4wxH_AF6",
        "outputId": "03859c45-635f-428c-f79c-5c39b98c65fe"
      },
      "outputs": [
        {
          "output_type": "stream",
          "name": "stdout",
          "text": [
            "Hello, Python!\n"
          ]
        }
      ],
      "source": [
        "# Print string as error message\n",
        "\n",
        "print(\"Hello, Python!\")"
      ]
    },
    {
      "cell_type": "markdown",
      "metadata": {
        "id": "OwBGFx11_AF6"
      },
      "source": [
        "<p>The error message tells you: \n",
        "<ol>\n",
        "    <li>where the error occurred (more useful in large notebook cells or scripts), and</li> \n",
        "    <li>what kind of error it was (NameError)</li> \n",
        "</ol>\n",
        "<p>Here, Python attempted to run the function <code>frint</code>, but could not determine what <code>frint</code> is since it's not a built-in function and it has not been previously defined by us either.</p>\n"
      ]
    },
    {
      "cell_type": "markdown",
      "metadata": {
        "id": "GLn5Ve9b_AF6"
      },
      "source": [
        "<p>\n",
        "    You'll notice that if we make a different type of mistake, by forgetting to close the string, we'll obtain a different error (i.e., a <code>SyntaxError</code>). Try it below:\n",
        "</p>\n"
      ]
    },
    {
      "cell_type": "code",
      "execution_count": null,
      "metadata": {
        "colab": {
          "base_uri": "https://localhost:8080/"
        },
        "id": "_sEA70YF_AF6",
        "outputId": "0a1dfae4-7c06-4ae9-bc04-22b66f602653"
      },
      "outputs": [
        {
          "output_type": "stream",
          "name": "stdout",
          "text": [
            "Hello, Python!\n"
          ]
        }
      ],
      "source": [
        "# Try to see built-in error message\n",
        "\n",
        "print('Hello, Python!')"
      ]
    },
    {
      "cell_type": "markdown",
      "metadata": {
        "id": "VBNgWuTC_AF6"
      },
      "source": [
        "<h3 id=\"python_error\">Does Python know about your error before it runs your code?</h3>\n"
      ]
    },
    {
      "cell_type": "markdown",
      "metadata": {
        "id": "Dh6dWDTo_AF6"
      },
      "source": [
        "Python is what is called an <em>interpreted language</em>. Compiled languages examine your entire program at compile time, and are able to warn you about a whole class of errors prior to execution. In contrast, Python interprets your script line by line as it executes it. Python will stop executing the entire program when it encounters an error (unless the error is expected and handled by the programmer, a more advanced subject that we'll cover later on in this course).\n"
      ]
    },
    {
      "cell_type": "markdown",
      "metadata": {
        "id": "Sxl3_6_R_AF6"
      },
      "source": [
        "Try to run the code in the cell below and see what happens:\n"
      ]
    },
    {
      "cell_type": "code",
      "execution_count": null,
      "metadata": {
        "colab": {
          "base_uri": "https://localhost:8080/"
        },
        "id": "aFdNjuw7_AF6",
        "outputId": "b9c81350-ea6f-40cf-cbcd-1fac07e39592"
      },
      "outputs": [
        {
          "output_type": "stream",
          "name": "stdout",
          "text": [
            "This will be printed\n",
            "This will cause an error\n",
            "This will NOT be printed\n"
          ]
        }
      ],
      "source": [
        "# Print string and error to see the running order\n",
        "\n",
        "print(\"This will be printed\")\n",
        "print(\"This will cause an error\")\n",
        "print(\"This will NOT be printed\")"
      ]
    },
    {
      "cell_type": "markdown",
      "metadata": {
        "id": "DEBQl6qx_AF7"
      },
      "source": [
        "<h3 id=\"exercise\">Exercise: Your First Program</h3>\n"
      ]
    },
    {
      "cell_type": "markdown",
      "metadata": {
        "id": "SKbR8VIo_AF7"
      },
      "source": [
        "<p>Generations of programmers have started their coding careers by simply printing \"Hello, world!\". You will be following in their footsteps.</p>\n",
        "<p>In the code cell below, use the <code>print()</code> function to print out the phrase: <code>Hello, world!</code></p>\n"
      ]
    },
    {
      "cell_type": "code",
      "execution_count": null,
      "metadata": {
        "colab": {
          "base_uri": "https://localhost:8080/"
        },
        "id": "miqRTmbH_AF7",
        "outputId": "c975c0ef-18bf-4579-e194-4ca5cf18d82c"
      },
      "outputs": [
        {
          "output_type": "stream",
          "name": "stdout",
          "text": [
            "Hello, world\n"
          ]
        }
      ],
      "source": [
        "# Write your code below. Don't forget to press Shift+Enter to execute the cell\n",
        "print('Hello, world')"
      ]
    },
    {
      "cell_type": "markdown",
      "metadata": {
        "id": "AO87jHQ3_AF7"
      },
      "source": [
        "<details><summary>Click here for the solution</summary>\n",
        "\n",
        "```python\n",
        "print(\"Hello, world!\")\n",
        "\n",
        "```\n",
        "\n",
        "</details>\n"
      ]
    },
    {
      "cell_type": "markdown",
      "metadata": {
        "id": "b-QMN3J1_AF7"
      },
      "source": [
        "<p>Now, let's enhance your code with a comment. In the code cell below, print out the phrase: <code>Hello, world!</code> and comment it with the phrase <code>Print the traditional hello world</code> all in one line of code.</p>\n"
      ]
    },
    {
      "cell_type": "code",
      "execution_count": null,
      "metadata": {
        "colab": {
          "base_uri": "https://localhost:8080/"
        },
        "id": "vDsjNWWK_AF7",
        "outputId": "ed1dde21-4507-40dc-a01f-bd1bca762052"
      },
      "outputs": [
        {
          "output_type": "stream",
          "name": "stdout",
          "text": [
            "Hellow, World\n"
          ]
        }
      ],
      "source": [
        "# Write your code below. Don't forget to press Shift+Enter to execute the cell\n",
        "print('Hellow, World') # This line prints my greeting to Python"
      ]
    },
    {
      "cell_type": "markdown",
      "metadata": {
        "id": "eUqc0rXw_AF7"
      },
      "source": [
        "<details><summary>Click here for the solution</summary>\n",
        "\n",
        "```python\n",
        "print(\"Hello, world!\") # Print the traditional hello world\n",
        "\n",
        "```\n",
        "\n",
        "</details>\n"
      ]
    },
    {
      "cell_type": "markdown",
      "metadata": {
        "id": "GZ4mHx6G_AF7"
      },
      "source": [
        "<hr>\n"
      ]
    },
    {
      "cell_type": "markdown",
      "metadata": {
        "id": "NxWwkmFo_AF7"
      },
      "source": [
        "<h2 id=\"types_objects\" align=\"center\">Types of objects in Python</h2>\n"
      ]
    },
    {
      "cell_type": "markdown",
      "metadata": {
        "id": "eVbEkgSf_AF7"
      },
      "source": [
        "<p>Python is an object-oriented language. There are many different types of objects in Python. Let's start with the most common object types: <i>strings</i>, <i>integers</i> and <i>floats</i>. Anytime you write words (text) in Python, you're using <i>character strings</i> (strings for short). The most common numbers, on the other hand, are <i>integers</i> (e.g. -1, 0, 100) and <i>floats</i>, which represent real numbers (e.g. 3.14, -42.0).</p>\n"
      ]
    },
    {
      "cell_type": "markdown",
      "metadata": {
        "id": "xpuaPBZo_AF8"
      },
      "source": [
        "<a align=\"center\">\n",
        "    <img src=\"https://cf-courses-data.s3.us.cloud-object-storage.appdomain.cloud/IBMDeveloperSkillsNetwork-PY0101EN-SkillsNetwork/labs/Module%201/images/TypesObjects.png\" width=\"600\">\n",
        "</a>\n"
      ]
    },
    {
      "cell_type": "markdown",
      "metadata": {
        "id": "K0KO80tT_AF8"
      },
      "source": [
        "<p>The following code cells contain some examples.</p>\n"
      ]
    },
    {
      "cell_type": "code",
      "execution_count": null,
      "metadata": {
        "colab": {
          "base_uri": "https://localhost:8080/"
        },
        "id": "DYVj7HBC_AF8",
        "outputId": "7b6fc0d5-3a98-46e8-b470-bf7c13d2541f"
      },
      "outputs": [
        {
          "output_type": "stream",
          "name": "stdout",
          "text": [
            "<class 'int'>\n"
          ]
        }
      ],
      "source": [
        "import typing\n",
        "# Integer\n",
        "11\n",
        "print(type(11))"
      ]
    },
    {
      "cell_type": "code",
      "execution_count": null,
      "metadata": {
        "colab": {
          "base_uri": "https://localhost:8080/"
        },
        "id": "5mARB55w_AF8",
        "outputId": "d2b4bc83-ef8c-445a-fb30-6e656004f9c9"
      },
      "outputs": [
        {
          "output_type": "stream",
          "name": "stdout",
          "text": [
            "<class 'float'>\n"
          ]
        }
      ],
      "source": [
        "# Float\n",
        "\n",
        "2.14\n",
        "print(type(2.14))"
      ]
    },
    {
      "cell_type": "code",
      "execution_count": null,
      "metadata": {
        "colab": {
          "base_uri": "https://localhost:8080/"
        },
        "id": "7NGTNfaa_AF8",
        "outputId": "7f026349-dce0-4634-a82a-746f3f513766"
      },
      "outputs": [
        {
          "output_type": "stream",
          "name": "stdout",
          "text": [
            "<class 'str'>\n"
          ]
        }
      ],
      "source": [
        "# String\n",
        "\n",
        "\"Hello, Python 101!\"\n",
        "print(type('Hello, Python 101!'))"
      ]
    },
    {
      "cell_type": "markdown",
      "metadata": {
        "id": "NB_ANNwr_AF8"
      },
      "source": [
        "<p>You can get Python to tell you the type of an expression by using the built-in <code>type()</code> function. You'll notice that Python refers to integers as <code>int</code>, floats as <code>float</code>, and character strings as <code>str</code>.</p>\n"
      ]
    },
    {
      "cell_type": "code",
      "execution_count": null,
      "metadata": {
        "colab": {
          "base_uri": "https://localhost:8080/"
        },
        "id": "ajC_Y7Ko_AF8",
        "outputId": "a802fbd7-2016-4814-d922-2bdfb6ccca95"
      },
      "outputs": [
        {
          "output_type": "execute_result",
          "data": {
            "text/plain": [
              "int"
            ]
          },
          "metadata": {},
          "execution_count": 23
        }
      ],
      "source": [
        "# Type of 12\n",
        "\n",
        "type(12)"
      ]
    },
    {
      "cell_type": "code",
      "execution_count": null,
      "metadata": {
        "colab": {
          "base_uri": "https://localhost:8080/"
        },
        "id": "r1qNoyNQ_AF8",
        "outputId": "8b719719-46c8-4fe1-e5a3-4b9486a5f216"
      },
      "outputs": [
        {
          "output_type": "execute_result",
          "data": {
            "text/plain": [
              "float"
            ]
          },
          "metadata": {},
          "execution_count": 24
        }
      ],
      "source": [
        "# Type of 2.14\n",
        "\n",
        "type(2.14)"
      ]
    },
    {
      "cell_type": "code",
      "execution_count": null,
      "metadata": {
        "colab": {
          "base_uri": "https://localhost:8080/"
        },
        "id": "z8eCQPDU_AF8",
        "outputId": "c2779b22-0bce-477b-c608-edd9334b7e84"
      },
      "outputs": [
        {
          "output_type": "execute_result",
          "data": {
            "text/plain": [
              "str"
            ]
          },
          "metadata": {},
          "execution_count": 25
        }
      ],
      "source": [
        "# Type of \"Hello, Python 101!\"\n",
        "\n",
        "type(\"Hello, Python 101!\")"
      ]
    },
    {
      "cell_type": "markdown",
      "metadata": {
        "id": "qcsh7ubs_AF9"
      },
      "source": [
        "<p>In the code cell below, use the <code>type()</code> function to check the object type of <code>12.0</code>.\n"
      ]
    },
    {
      "cell_type": "code",
      "execution_count": null,
      "metadata": {
        "colab": {
          "base_uri": "https://localhost:8080/"
        },
        "id": "3YYJbRcX_AF9",
        "outputId": "2fcacf64-d533-4422-d33d-9e4fc7671a02"
      },
      "outputs": [
        {
          "output_type": "execute_result",
          "data": {
            "text/plain": [
              "float"
            ]
          },
          "metadata": {},
          "execution_count": 26
        }
      ],
      "source": [
        "# Write your code below. Don't forget to press Shift+Enter to execute the cell\n",
        "type(12.0)"
      ]
    },
    {
      "cell_type": "markdown",
      "metadata": {
        "id": "TJujjpnd_AF9"
      },
      "source": [
        "<details><summary>Click here for the solution</summary>\n",
        "\n",
        "```python\n",
        "type(12.0)\n",
        "\n",
        "```\n",
        "\n",
        "</details>\n"
      ]
    },
    {
      "cell_type": "markdown",
      "metadata": {
        "id": "FyIydW7V_AF9"
      },
      "source": [
        "<h3 id=\"int\">Integers</h3>\n"
      ]
    },
    {
      "cell_type": "markdown",
      "metadata": {
        "id": "PxnhB52h_AF9"
      },
      "source": [
        "<p>Here are some examples of integers. Integers can be negative or positive numbers:</p>\n"
      ]
    },
    {
      "cell_type": "markdown",
      "metadata": {
        "id": "yCA9aqTD_AF9"
      },
      "source": [
        "<a align=\"center\">\n",
        "    <img src=\"https://cf-courses-data.s3.us.cloud-object-storage.appdomain.cloud/IBMDeveloperSkillsNetwork-PY0101EN-SkillsNetwork/labs/Module%201/images/TypesInt.png\" width=\"600\">\n",
        "</a>\n"
      ]
    },
    {
      "cell_type": "markdown",
      "metadata": {
        "id": "_U0X_oTf_AF9"
      },
      "source": [
        "<p>We can verify this is the case by using, you guessed it, the <code>type()</code> function:\n"
      ]
    },
    {
      "cell_type": "code",
      "execution_count": null,
      "metadata": {
        "colab": {
          "base_uri": "https://localhost:8080/"
        },
        "id": "zMifokEJ_AF9",
        "outputId": "6dc28365-9af6-43dd-8e44-ffbf096ea0e4"
      },
      "outputs": [
        {
          "output_type": "execute_result",
          "data": {
            "text/plain": [
              "int"
            ]
          },
          "metadata": {},
          "execution_count": 27
        }
      ],
      "source": [
        "# Print the type of -1\n",
        "\n",
        "type(-1)"
      ]
    },
    {
      "cell_type": "code",
      "execution_count": null,
      "metadata": {
        "colab": {
          "base_uri": "https://localhost:8080/"
        },
        "id": "Lw2TvoG9_AF9",
        "outputId": "515da46a-b420-4a71-a593-9a91615e4b23"
      },
      "outputs": [
        {
          "output_type": "execute_result",
          "data": {
            "text/plain": [
              "int"
            ]
          },
          "metadata": {},
          "execution_count": 28
        }
      ],
      "source": [
        "# Print the type of 4\n",
        "\n",
        "type(4)"
      ]
    },
    {
      "cell_type": "code",
      "execution_count": null,
      "metadata": {
        "colab": {
          "base_uri": "https://localhost:8080/"
        },
        "id": "oltJO9lr_AF9",
        "outputId": "acabeebf-c2c2-4619-e60d-8ec1142ed1b4"
      },
      "outputs": [
        {
          "output_type": "execute_result",
          "data": {
            "text/plain": [
              "int"
            ]
          },
          "metadata": {},
          "execution_count": 29
        }
      ],
      "source": [
        "# Print the type of 0\n",
        "\n",
        "type(0)"
      ]
    },
    {
      "cell_type": "markdown",
      "metadata": {
        "id": "OLxHwdKY_AF-"
      },
      "source": [
        "<h3 id=\"float\">Floats</h3> \n"
      ]
    },
    {
      "cell_type": "markdown",
      "metadata": {
        "id": "4tOs2pO7_AF-"
      },
      "source": [
        "<p>Floats represent real numbers; they are a superset of integer numbers but also include \"numbers with decimals\". There are some limitations when it comes to machines representing real numbers, but floating point numbers are a good representation in most cases. You can learn more about the specifics of floats for your runtime environment, by checking the value of <code>sys.float_info</code>. This will also tell you what's the largest and smallest number that can be represented with them.</p>\n",
        "\n",
        "<p>Once again, can test some examples with the <code>type()</code> function:\n"
      ]
    },
    {
      "cell_type": "code",
      "execution_count": null,
      "metadata": {
        "colab": {
          "base_uri": "https://localhost:8080/"
        },
        "id": "ef5lqh7P_AF-",
        "outputId": "79bf6ad0-71d5-4932-8e34-7b4440521596"
      },
      "outputs": [
        {
          "output_type": "execute_result",
          "data": {
            "text/plain": [
              "float"
            ]
          },
          "metadata": {},
          "execution_count": 30
        }
      ],
      "source": [
        "# Print the type of 1.0\n",
        "\n",
        "type(1.0) # Notice that 1 is an int, and 1.0 is a float"
      ]
    },
    {
      "cell_type": "code",
      "execution_count": null,
      "metadata": {
        "colab": {
          "base_uri": "https://localhost:8080/"
        },
        "id": "wgr73Ew3_AF-",
        "outputId": "b65ef249-fd49-4dc1-f80d-764313dd9a81"
      },
      "outputs": [
        {
          "output_type": "execute_result",
          "data": {
            "text/plain": [
              "float"
            ]
          },
          "metadata": {},
          "execution_count": 31
        }
      ],
      "source": [
        "# Print the type of 0.5\n",
        "\n",
        "type(0.5)"
      ]
    },
    {
      "cell_type": "code",
      "execution_count": null,
      "metadata": {
        "colab": {
          "base_uri": "https://localhost:8080/"
        },
        "id": "sX8-QRjV_AF-",
        "outputId": "65e3ccb7-5f41-4fa2-9809-27f110a1c04f"
      },
      "outputs": [
        {
          "output_type": "execute_result",
          "data": {
            "text/plain": [
              "float"
            ]
          },
          "metadata": {},
          "execution_count": 32
        }
      ],
      "source": [
        "# Print the type of 0.56\n",
        "\n",
        "type(0.56)"
      ]
    },
    {
      "cell_type": "code",
      "execution_count": null,
      "metadata": {
        "colab": {
          "base_uri": "https://localhost:8080/"
        },
        "id": "sKHvDLkQ_AF-",
        "outputId": "53d039c2-5618-4e28-c75c-2370f5361676"
      },
      "outputs": [
        {
          "output_type": "execute_result",
          "data": {
            "text/plain": [
              "sys.float_info(max=1.7976931348623157e+308, max_exp=1024, max_10_exp=308, min=2.2250738585072014e-308, min_exp=-1021, min_10_exp=-307, dig=15, mant_dig=53, epsilon=2.220446049250313e-16, radix=2, rounds=1)"
            ]
          },
          "metadata": {},
          "execution_count": 34
        }
      ],
      "source": [
        "# System settings about float type\n",
        "\n",
        "sys.float_info"
      ]
    },
    {
      "cell_type": "markdown",
      "metadata": {
        "id": "7thRX7sl_AF-"
      },
      "source": [
        "<h3 id=\"convert\">Converting from one object type to a different object type</h3>\n"
      ]
    },
    {
      "cell_type": "markdown",
      "metadata": {
        "id": "SBbiWRlz_AF-"
      },
      "source": [
        "<p>You can change the type of the object in Python; this is called typecasting. For example, you can convert an <i>integer</i> into a <i>float</i> (e.g. 2 to 2.0).</p>\n",
        "<p>Let's try it:</p>\n"
      ]
    },
    {
      "cell_type": "code",
      "execution_count": null,
      "metadata": {
        "colab": {
          "base_uri": "https://localhost:8080/"
        },
        "id": "qCUY9-Ux_AF-",
        "outputId": "30db57ef-00e4-4eba-ac18-10fddfc85147"
      },
      "outputs": [
        {
          "output_type": "execute_result",
          "data": {
            "text/plain": [
              "int"
            ]
          },
          "metadata": {},
          "execution_count": 35
        }
      ],
      "source": [
        "# Verify that this is an integer\n",
        "\n",
        "type(2)"
      ]
    },
    {
      "cell_type": "markdown",
      "metadata": {
        "id": "iIg1rwFX_AF-"
      },
      "source": [
        "<h4>Converting integers to floats</h4>\n",
        "<p>Let's cast integer 2 to float:</p>\n"
      ]
    },
    {
      "cell_type": "code",
      "execution_count": null,
      "metadata": {
        "colab": {
          "base_uri": "https://localhost:8080/"
        },
        "id": "RllD8Arn_AF_",
        "outputId": "2a4db2ed-c9fa-4bcb-8219-50e9103e39ff"
      },
      "outputs": [
        {
          "output_type": "execute_result",
          "data": {
            "text/plain": [
              "2.0"
            ]
          },
          "metadata": {},
          "execution_count": 36
        }
      ],
      "source": [
        "# Convert 2 to a float\n",
        "\n",
        "float(2)"
      ]
    },
    {
      "cell_type": "code",
      "execution_count": null,
      "metadata": {
        "colab": {
          "base_uri": "https://localhost:8080/"
        },
        "id": "oCl-Z0Ox_AF_",
        "outputId": "028a0b5b-e74f-4b18-df68-e67891b684d7"
      },
      "outputs": [
        {
          "output_type": "execute_result",
          "data": {
            "text/plain": [
              "float"
            ]
          },
          "metadata": {},
          "execution_count": 37
        }
      ],
      "source": [
        "# Convert integer 2 to a float and check its type\n",
        "\n",
        "type(float(2))"
      ]
    },
    {
      "cell_type": "markdown",
      "metadata": {
        "id": "PI6qesBo_AF_"
      },
      "source": [
        "<p>When we convert an integer into a float, we don't really change the value (i.e., the significand) of the number. However, if we cast a float into an integer, we could potentially lose some information. For example, if we cast the float 1.1 to integer we will get 1 and lose the decimal information (i.e., 0.1):</p>\n"
      ]
    },
    {
      "cell_type": "code",
      "execution_count": null,
      "metadata": {
        "colab": {
          "base_uri": "https://localhost:8080/"
        },
        "id": "xAfAilbB_AF_",
        "outputId": "796fcf53-8c63-414c-fb00-b7158293f927"
      },
      "outputs": [
        {
          "output_type": "execute_result",
          "data": {
            "text/plain": [
              "1"
            ]
          },
          "metadata": {},
          "execution_count": 38
        }
      ],
      "source": [
        "# Casting 1.1 to integer will result in loss of information\n",
        "\n",
        "int(1.1)"
      ]
    },
    {
      "cell_type": "markdown",
      "metadata": {
        "id": "JKPWhClO_AF_"
      },
      "source": [
        "<h4>Converting from strings to integers or floats</h4>\n"
      ]
    },
    {
      "cell_type": "markdown",
      "metadata": {
        "id": "cye63Sdr_AGA"
      },
      "source": [
        "<p>Sometimes, we can have a string that contains a number within it. If this is the case, we can cast that string that represents a number into an integer using <code>int()</code>:</p>\n"
      ]
    },
    {
      "cell_type": "code",
      "execution_count": null,
      "metadata": {
        "colab": {
          "base_uri": "https://localhost:8080/"
        },
        "id": "L7RlRQN9_AGA",
        "outputId": "bb3490ed-7afb-4f39-cc39-10be16caccf8"
      },
      "outputs": [
        {
          "output_type": "execute_result",
          "data": {
            "text/plain": [
              "1"
            ]
          },
          "metadata": {},
          "execution_count": 39
        }
      ],
      "source": [
        "# Convert a string into an integer\n",
        "\n",
        "int('1')"
      ]
    },
    {
      "cell_type": "markdown",
      "metadata": {
        "id": "9M-imBbU_AGA"
      },
      "source": [
        "<p>But if you try to do so with a string that is not a perfect match for a number, you'll get an error. Try the following:</p>\n"
      ]
    },
    {
      "cell_type": "code",
      "execution_count": null,
      "metadata": {
        "id": "yVIAiMVT_AGA"
      },
      "outputs": [],
      "source": [
        "# Convert a string into an integer with error\n",
        "\n",
        "# int('1 or 2 people')"
      ]
    },
    {
      "cell_type": "markdown",
      "metadata": {
        "id": "DMjgFpI9_AGA"
      },
      "source": [
        "<p>You can also convert strings containing floating point numbers into <i>float</i> objects:</p>\n"
      ]
    },
    {
      "cell_type": "code",
      "execution_count": null,
      "metadata": {
        "colab": {
          "base_uri": "https://localhost:8080/"
        },
        "id": "bgMyjLi4_AGA",
        "outputId": "12ea5efc-d36f-4b8f-dd66-feefda9c6cb2"
      },
      "outputs": [
        {
          "output_type": "execute_result",
          "data": {
            "text/plain": [
              "1.2"
            ]
          },
          "metadata": {},
          "execution_count": 42
        }
      ],
      "source": [
        "# Convert the string \"1.2\" into a float\n",
        "\n",
        "float('1.2')"
      ]
    },
    {
      "cell_type": "markdown",
      "metadata": {
        "id": "LqA7qG_2_AGA"
      },
      "source": [
        "<hr/>\n",
        "<div class=\"alert alert-success alertsuccess\" style=\"margin-top: 20px\">\n",
        "    [Tip:] Note that strings can be represented with single quotes (<code>'1.2'</code>) or double quotes (<code>\"1.2\"</code>), but you can't mix both (e.g., <code>\"1.2'</code>).\n",
        "</div>\n",
        "<hr/>\n"
      ]
    },
    {
      "cell_type": "markdown",
      "metadata": {
        "id": "kxknVQIf_AGC"
      },
      "source": [
        "<h4>Converting numbers to strings</h4>\n"
      ]
    },
    {
      "cell_type": "markdown",
      "metadata": {
        "id": "IQL0AP3i_AGC"
      },
      "source": [
        "<p>If we can convert strings to numbers, it is only natural to assume that we can convert numbers to strings, right?</p>\n"
      ]
    },
    {
      "cell_type": "code",
      "execution_count": null,
      "metadata": {
        "colab": {
          "base_uri": "https://localhost:8080/",
          "height": 36
        },
        "id": "jdKnxlcP_AGC",
        "outputId": "095e9a02-c231-43a7-89d2-d19e8c3d9782"
      },
      "outputs": [
        {
          "output_type": "execute_result",
          "data": {
            "text/plain": [
              "'1'"
            ],
            "application/vnd.google.colaboratory.intrinsic+json": {
              "type": "string"
            }
          },
          "metadata": {},
          "execution_count": 43
        }
      ],
      "source": [
        "# Convert an integer to a string\n",
        "\n",
        "str(1)\n"
      ]
    },
    {
      "cell_type": "markdown",
      "metadata": {
        "id": "P7V1FB5P_AGD"
      },
      "source": [
        "<p>And there is no reason why we shouldn't be able to make floats into strings as well:</p> \n"
      ]
    },
    {
      "cell_type": "code",
      "execution_count": null,
      "metadata": {
        "colab": {
          "base_uri": "https://localhost:8080/",
          "height": 36
        },
        "id": "6LPn0Zoe_AGD",
        "outputId": "c24e7e08-f34e-4f2e-f7b9-a2de8cc67a66"
      },
      "outputs": [
        {
          "output_type": "execute_result",
          "data": {
            "text/plain": [
              "'1.2'"
            ],
            "application/vnd.google.colaboratory.intrinsic+json": {
              "type": "string"
            }
          },
          "metadata": {},
          "execution_count": 44
        }
      ],
      "source": [
        "# Convert a float to a string\n",
        "\n",
        "str(1.2)"
      ]
    },
    {
      "cell_type": "markdown",
      "metadata": {
        "id": "UJiK3Lou_AGD"
      },
      "source": [
        "<h3 id=\"bool\">Boolean data type</h3>\n"
      ]
    },
    {
      "cell_type": "markdown",
      "metadata": {
        "id": "q8OxQxKE_AGD"
      },
      "source": [
        "<p><i>Boolean</i> is another important type in Python. An object of type <i>Boolean</i> can take on one of two values: <code>True</code> or <code>False</code>:</p>\n"
      ]
    },
    {
      "cell_type": "code",
      "execution_count": null,
      "metadata": {
        "colab": {
          "base_uri": "https://localhost:8080/"
        },
        "id": "6mj4oDg4_AGD",
        "outputId": "692d0216-5ab2-41ec-85a3-ff4a6255f428"
      },
      "outputs": [
        {
          "output_type": "execute_result",
          "data": {
            "text/plain": [
              "True"
            ]
          },
          "metadata": {},
          "execution_count": 45
        }
      ],
      "source": [
        "# Value true\n",
        "\n",
        "True"
      ]
    },
    {
      "cell_type": "markdown",
      "metadata": {
        "id": "RxIEs3k5_AGD"
      },
      "source": [
        "<p>Notice that the value <code>True</code> has an uppercase \"T\". The same is true for <code>False</code> (i.e. you must use the uppercase \"F\").</p>\n"
      ]
    },
    {
      "cell_type": "code",
      "execution_count": null,
      "metadata": {
        "colab": {
          "base_uri": "https://localhost:8080/"
        },
        "id": "oQdOSSlT_AGD",
        "outputId": "e7838407-dc8a-49f1-85f5-81502894cfc3"
      },
      "outputs": [
        {
          "output_type": "execute_result",
          "data": {
            "text/plain": [
              "False"
            ]
          },
          "metadata": {},
          "execution_count": 46
        }
      ],
      "source": [
        "# Value false\n",
        "\n",
        "False"
      ]
    },
    {
      "cell_type": "markdown",
      "metadata": {
        "id": "tNnNaU7D_AGD"
      },
      "source": [
        "<p>When you ask Python to display the type of a boolean object it will show <code>bool</code> which stands for <i>boolean</i>:</p> \n"
      ]
    },
    {
      "cell_type": "code",
      "execution_count": null,
      "metadata": {
        "colab": {
          "base_uri": "https://localhost:8080/"
        },
        "id": "I1Iq2VaL_AGD",
        "outputId": "635f4a6d-ebd7-48cd-d315-fb8a08b8fa4e"
      },
      "outputs": [
        {
          "output_type": "execute_result",
          "data": {
            "text/plain": [
              "bool"
            ]
          },
          "metadata": {},
          "execution_count": 47
        }
      ],
      "source": [
        "# Type of True\n",
        "\n",
        "type(True)"
      ]
    },
    {
      "cell_type": "code",
      "execution_count": null,
      "metadata": {
        "colab": {
          "base_uri": "https://localhost:8080/"
        },
        "id": "UqHji0Oa_AGD",
        "outputId": "d20741ea-4328-4ba3-c2de-0cbc34948250"
      },
      "outputs": [
        {
          "output_type": "execute_result",
          "data": {
            "text/plain": [
              "bool"
            ]
          },
          "metadata": {},
          "execution_count": 48
        }
      ],
      "source": [
        "# Type of False\n",
        "\n",
        "type(False)"
      ]
    },
    {
      "cell_type": "markdown",
      "metadata": {
        "id": "hcia_BJI_AGE"
      },
      "source": [
        "<p>We can cast boolean objects to other data types. If we cast a boolean with a value of <code>True</code> to an integer or float we will get a one. If we cast a boolean with a value of <code>False</code> to an integer or float we will get a zero. Similarly, if we cast a 1 to a Boolean, you get a <code>True</code>. And if we cast a 0 to a Boolean we will get a <code>False</code>. Let's give it a try:</p> \n"
      ]
    },
    {
      "cell_type": "code",
      "execution_count": null,
      "metadata": {
        "colab": {
          "base_uri": "https://localhost:8080/"
        },
        "id": "3oA09IS1_AGE",
        "outputId": "3ae84116-816d-4aff-e6e5-c6df18754a89"
      },
      "outputs": [
        {
          "output_type": "execute_result",
          "data": {
            "text/plain": [
              "1"
            ]
          },
          "metadata": {},
          "execution_count": 49
        }
      ],
      "source": [
        "# Convert True to int\n",
        "\n",
        "int(True)"
      ]
    },
    {
      "cell_type": "code",
      "execution_count": null,
      "metadata": {
        "colab": {
          "base_uri": "https://localhost:8080/"
        },
        "id": "xvYrhI3r_AGE",
        "outputId": "3f7e9f10-8c3f-4867-afd4-407e3c57f046"
      },
      "outputs": [
        {
          "output_type": "execute_result",
          "data": {
            "text/plain": [
              "True"
            ]
          },
          "metadata": {},
          "execution_count": 50
        }
      ],
      "source": [
        "# Convert 1 to boolean\n",
        "\n",
        "bool(1)"
      ]
    },
    {
      "cell_type": "code",
      "execution_count": null,
      "metadata": {
        "colab": {
          "base_uri": "https://localhost:8080/"
        },
        "id": "8cxmpoTJ_AGE",
        "outputId": "002defe9-40d4-47c2-aa00-83827b18d306"
      },
      "outputs": [
        {
          "output_type": "execute_result",
          "data": {
            "text/plain": [
              "False"
            ]
          },
          "metadata": {},
          "execution_count": 51
        }
      ],
      "source": [
        "# Convert 0 to boolean\n",
        "\n",
        "bool(0)"
      ]
    },
    {
      "cell_type": "code",
      "execution_count": null,
      "metadata": {
        "colab": {
          "base_uri": "https://localhost:8080/"
        },
        "id": "GU2WThpt_AGE",
        "outputId": "730f159d-66b9-47b7-f5a2-9f92aab3cb72"
      },
      "outputs": [
        {
          "output_type": "execute_result",
          "data": {
            "text/plain": [
              "1.0"
            ]
          },
          "metadata": {},
          "execution_count": 52
        }
      ],
      "source": [
        "# Convert True to float\n",
        "\n",
        "float(True)"
      ]
    },
    {
      "cell_type": "markdown",
      "metadata": {
        "id": "oZ_LpAH__AGE"
      },
      "source": [
        "<h3 id=\"exer_type\">Exercise: Types</h3>\n"
      ]
    },
    {
      "cell_type": "markdown",
      "metadata": {
        "id": "XFIt_cVJ_AGE"
      },
      "source": [
        "<p>What is the data type of the result of: <code>6 / 2</code>?</p>\n"
      ]
    },
    {
      "cell_type": "code",
      "execution_count": null,
      "metadata": {
        "colab": {
          "base_uri": "https://localhost:8080/"
        },
        "id": "I_KBdw1c_AGE",
        "outputId": "25a89e37-59b3-4698-99fb-f522aaa36eff"
      },
      "outputs": [
        {
          "output_type": "execute_result",
          "data": {
            "text/plain": [
              "float"
            ]
          },
          "metadata": {},
          "execution_count": 53
        }
      ],
      "source": [
        "# Write your code below. Don't forget to press Shift+Enter to execute the cell\n",
        "type(6/2)"
      ]
    },
    {
      "cell_type": "markdown",
      "metadata": {
        "id": "3wrLKweN_AGE"
      },
      "source": [
        "<details><summary>Click here for the solution</summary>\n",
        "\n",
        "```python\n",
        "type(6/2) # float\n",
        "\n",
        "```\n",
        "\n",
        "</details>\n"
      ]
    },
    {
      "cell_type": "markdown",
      "metadata": {
        "id": "bd4ezuQi_AGE"
      },
      "source": [
        "<p>What is the type of the result of: <code>6 // 2</code>? (Note the double slash <code>//</code>.)</p>\n"
      ]
    },
    {
      "cell_type": "code",
      "execution_count": null,
      "metadata": {
        "colab": {
          "base_uri": "https://localhost:8080/"
        },
        "id": "9Qyh-qGR_AGE",
        "outputId": "1115faa1-08a2-42e6-f7ed-fe58885db438"
      },
      "outputs": [
        {
          "output_type": "execute_result",
          "data": {
            "text/plain": [
              "int"
            ]
          },
          "metadata": {},
          "execution_count": 54
        }
      ],
      "source": [
        "# Write your code below. Don't forget to press Shift+Enter to execute the cell\n",
        "type(6//2)"
      ]
    },
    {
      "cell_type": "markdown",
      "metadata": {
        "id": "OdUXbQ3Z_AGE"
      },
      "source": [
        "<details><summary>Click here for the solution</summary>\n",
        "\n",
        "```python\n",
        "type(6//2) # int, as the double slashes stand for integer division \n",
        "\n",
        "```\n",
        "\n",
        "</details>\n"
      ]
    },
    {
      "cell_type": "markdown",
      "metadata": {
        "id": "G3qPpqbb_AGF"
      },
      "source": [
        "<hr>\n"
      ]
    },
    {
      "cell_type": "markdown",
      "metadata": {
        "id": "UhKr5WOF_AGF"
      },
      "source": [
        "<h2 id=\"expressions\">Expression and Variables</h2>\n"
      ]
    },
    {
      "cell_type": "markdown",
      "metadata": {
        "id": "ZOz52iBt_AGF"
      },
      "source": [
        "<h3 id=\"exp\">Expressions</h3>\n"
      ]
    },
    {
      "cell_type": "markdown",
      "metadata": {
        "id": "wrib-Gs__AGF"
      },
      "source": [
        "<p>Expressions in Python can include operations among compatible types (e.g., integers and floats). For example, basic arithmetic operations like adding multiple numbers:</p>\n"
      ]
    },
    {
      "cell_type": "code",
      "execution_count": null,
      "metadata": {
        "colab": {
          "base_uri": "https://localhost:8080/"
        },
        "id": "nScvZagO_AGF",
        "outputId": "abdd06eb-5ad2-485b-a5e7-e147fe876915"
      },
      "outputs": [
        {
          "output_type": "execute_result",
          "data": {
            "text/plain": [
              "160"
            ]
          },
          "metadata": {},
          "execution_count": 55
        }
      ],
      "source": [
        "# Addition operation expression\n",
        "\n",
        "43 + 60 + 16 + 41"
      ]
    },
    {
      "cell_type": "markdown",
      "metadata": {
        "id": "9ypQ37yn_AGF"
      },
      "source": [
        "<p>We can perform subtraction operations using the minus operator. In this case the result is a negative number:</p>\n"
      ]
    },
    {
      "cell_type": "code",
      "execution_count": null,
      "metadata": {
        "colab": {
          "base_uri": "https://localhost:8080/"
        },
        "id": "55VSnVXe_AGF",
        "outputId": "bc909416-c2f5-4683-fed1-fc93d27821c7"
      },
      "outputs": [
        {
          "output_type": "execute_result",
          "data": {
            "text/plain": [
              "-10"
            ]
          },
          "metadata": {},
          "execution_count": 56
        }
      ],
      "source": [
        "# Subtraction operation expression\n",
        "\n",
        "50 - 60"
      ]
    },
    {
      "cell_type": "markdown",
      "metadata": {
        "id": "fg97sYZz_AGF"
      },
      "source": [
        "<p>We can do multiplication using an asterisk:</p>\n"
      ]
    },
    {
      "cell_type": "code",
      "execution_count": null,
      "metadata": {
        "colab": {
          "base_uri": "https://localhost:8080/"
        },
        "id": "fODQ1M6v_AGF",
        "outputId": "1109ec81-3bea-4114-de66-550efc12c979"
      },
      "outputs": [
        {
          "output_type": "execute_result",
          "data": {
            "text/plain": [
              "25"
            ]
          },
          "metadata": {},
          "execution_count": 58
        }
      ],
      "source": [
        "# Multiplication operation expression\n",
        "\n",
        "5 * 5"
      ]
    },
    {
      "cell_type": "markdown",
      "metadata": {
        "id": "Mq9RAsE0_AGF"
      },
      "source": [
        "<p>We can also perform division with the forward slash:\n"
      ]
    },
    {
      "cell_type": "code",
      "execution_count": null,
      "metadata": {
        "colab": {
          "base_uri": "https://localhost:8080/"
        },
        "id": "5c0L1Mvz_AGF",
        "outputId": "45ea564a-6a8e-4687-cf18-885d37c57a2e"
      },
      "outputs": [
        {
          "output_type": "execute_result",
          "data": {
            "text/plain": [
              "5.0"
            ]
          },
          "metadata": {},
          "execution_count": 59
        }
      ],
      "source": [
        "# Division operation expression\n",
        "\n",
        "25 / 5"
      ]
    },
    {
      "cell_type": "code",
      "execution_count": null,
      "metadata": {
        "colab": {
          "base_uri": "https://localhost:8080/"
        },
        "id": "Js0ad6W6_AGF",
        "outputId": "12d9e740-e791-41bf-de48-5ad2b5f4db08"
      },
      "outputs": [
        {
          "output_type": "execute_result",
          "data": {
            "text/plain": [
              "4.166666666666667"
            ]
          },
          "metadata": {},
          "execution_count": 60
        }
      ],
      "source": [
        "# Division operation expression\n",
        "\n",
        "25 / 6"
      ]
    },
    {
      "cell_type": "markdown",
      "metadata": {
        "id": "YiRk7Su7_AGF"
      },
      "source": [
        "<p>As seen in the quiz above, we can use the double slash for integer division, where the result is rounded down to the nearest integer:\n"
      ]
    },
    {
      "cell_type": "code",
      "execution_count": null,
      "metadata": {
        "colab": {
          "base_uri": "https://localhost:8080/"
        },
        "id": "cS0BHoHe_AGG",
        "outputId": "55e7bb38-11eb-4095-fb46-7c8030ea6a33"
      },
      "outputs": [
        {
          "output_type": "execute_result",
          "data": {
            "text/plain": [
              "5"
            ]
          },
          "metadata": {},
          "execution_count": 61
        }
      ],
      "source": [
        "# Integer division operation expression\n",
        "\n",
        "25 // 5"
      ]
    },
    {
      "cell_type": "code",
      "execution_count": null,
      "metadata": {
        "colab": {
          "base_uri": "https://localhost:8080/"
        },
        "id": "UMSkuvFb_AGG",
        "outputId": "224dbf38-449e-4479-e470-39d9f8c4e0bd"
      },
      "outputs": [
        {
          "output_type": "execute_result",
          "data": {
            "text/plain": [
              "4"
            ]
          },
          "metadata": {},
          "execution_count": 62
        }
      ],
      "source": [
        "# Integer division operation expression\n",
        "\n",
        "25 // 6"
      ]
    },
    {
      "cell_type": "markdown",
      "metadata": {
        "id": "88W-Ntxp_AGG"
      },
      "source": [
        "<h3 id=\"exer_exp\">Exercise: Expression</h3>\n"
      ]
    },
    {
      "cell_type": "markdown",
      "metadata": {
        "id": "TC1YIk_Y_AGG"
      },
      "source": [
        "<p>Let's write an expression that calculates how many hours there are in 160 minutes:\n"
      ]
    },
    {
      "cell_type": "code",
      "execution_count": null,
      "metadata": {
        "colab": {
          "base_uri": "https://localhost:8080/"
        },
        "id": "259wX5ue_AGG",
        "outputId": "f7afbf79-0cb3-4dde-b0f2-bae0384000e2"
      },
      "outputs": [
        {
          "output_type": "stream",
          "name": "stdout",
          "text": [
            "En 160 min hay un total de:  2.6666666666666665 horas\n",
            "En 160 min hay un total de:  2 horas\n"
          ]
        }
      ],
      "source": [
        "# Write your code below. Don't forget to press Shift+Enter to execute the cell\n",
        "respuesta_en_entero = 160 / 60\n",
        "print(f'En 160 min hay un total de: ', respuesta_en_entero, 'horas')\n",
        "\n",
        "respuesta_en_flotante = 160 // 60\n",
        "print(f'En 160 min hay un total de: ', respuesta_en_flotante, 'horas')"
      ]
    },
    {
      "cell_type": "markdown",
      "metadata": {
        "id": "z8-yfqUF_AGG"
      },
      "source": [
        "<details><summary>Click here for the solution</summary>\n",
        "\n",
        "```python\n",
        "160/60 \n",
        "\n",
        "# Or \n",
        "\n",
        "160//60\n",
        "\n",
        "```\n",
        "\n",
        "</details>\n"
      ]
    },
    {
      "cell_type": "markdown",
      "metadata": {
        "id": "DZBq19y5_AGG"
      },
      "source": [
        "<p>Python follows well accepted mathematical conventions when evaluating mathematical expressions. In the following example, Python adds 30 to the result of the multiplication (i.e., 120).\n"
      ]
    },
    {
      "cell_type": "code",
      "execution_count": null,
      "metadata": {
        "colab": {
          "base_uri": "https://localhost:8080/"
        },
        "id": "pN76FH1K_AGG",
        "outputId": "9db3bb26-1b7a-4981-bc39-30693591fd4b"
      },
      "outputs": [
        {
          "output_type": "execute_result",
          "data": {
            "text/plain": [
              "150"
            ]
          },
          "metadata": {},
          "execution_count": 73
        }
      ],
      "source": [
        "# Mathematical expression\n",
        "\n",
        "30 + 2 * 60"
      ]
    },
    {
      "cell_type": "markdown",
      "metadata": {
        "id": "b9vXCOYE_AGG"
      },
      "source": [
        "<p>And just like mathematics, expressions enclosed in parentheses have priority. So the following multiplies 32 by 60.\n"
      ]
    },
    {
      "cell_type": "code",
      "execution_count": null,
      "metadata": {
        "colab": {
          "base_uri": "https://localhost:8080/"
        },
        "id": "pY5Okh6w_AGG",
        "outputId": "c2cf1d71-4eef-43f1-cb9d-15d66111e0bc"
      },
      "outputs": [
        {
          "output_type": "execute_result",
          "data": {
            "text/plain": [
              "1920"
            ]
          },
          "metadata": {},
          "execution_count": 74
        }
      ],
      "source": [
        "# Mathematical expression\n",
        "\n",
        "(30 + 2) * 60"
      ]
    },
    {
      "cell_type": "markdown",
      "metadata": {
        "id": "oagKqVjb_AGG"
      },
      "source": [
        "<h3 id=\"var\">Variables</h3>\n"
      ]
    },
    {
      "cell_type": "markdown",
      "metadata": {
        "id": "sEao94tA_AGG"
      },
      "source": [
        "<p>Just like with most programming languages, we can store values in <i>variables</i>, so we can use them later on. For example:</p>\n"
      ]
    },
    {
      "cell_type": "code",
      "execution_count": null,
      "metadata": {
        "id": "CeaQRf0O_AGH"
      },
      "outputs": [],
      "source": [
        "# Store value into variable\n",
        "\n",
        "x = 43 + 60 + 16 + 41"
      ]
    },
    {
      "cell_type": "markdown",
      "metadata": {
        "id": "BgWCCWUN_AGH"
      },
      "source": [
        "<p>To see the value of <code>x</code> in a Notebook, we can simply place it on the last line of a cell:</p>\n"
      ]
    },
    {
      "cell_type": "code",
      "execution_count": null,
      "metadata": {
        "colab": {
          "base_uri": "https://localhost:8080/"
        },
        "id": "OOBQacpb_AGH",
        "outputId": "96b92fe6-5b98-4479-9b72-76afb18bbe07"
      },
      "outputs": [
        {
          "output_type": "execute_result",
          "data": {
            "text/plain": [
              "160"
            ]
          },
          "metadata": {},
          "execution_count": 76
        }
      ],
      "source": [
        "# Print out the value in variable\n",
        "\n",
        "x"
      ]
    },
    {
      "cell_type": "markdown",
      "metadata": {
        "id": "Z22jDvKP_AGH"
      },
      "source": [
        "<p>We can also perform operations on <code>x</code> and save the result to a new variable:</p>\n"
      ]
    },
    {
      "cell_type": "code",
      "execution_count": null,
      "metadata": {
        "colab": {
          "base_uri": "https://localhost:8080/"
        },
        "id": "0uA3cJgr_AGH",
        "outputId": "5df2ea54-46db-45e5-944f-decb0e9b7dc3"
      },
      "outputs": [
        {
          "output_type": "execute_result",
          "data": {
            "text/plain": [
              "2.6666666666666665"
            ]
          },
          "metadata": {},
          "execution_count": 77
        }
      ],
      "source": [
        "# Use another variable to store the result of the operation between variable and value\n",
        "\n",
        "y = x / 60\n",
        "y"
      ]
    },
    {
      "cell_type": "markdown",
      "metadata": {
        "id": "OYh1hnXi_AGH"
      },
      "source": [
        "<p>If we save a value to an existing variable, the new value will overwrite the previous value:</p>\n"
      ]
    },
    {
      "cell_type": "code",
      "execution_count": null,
      "metadata": {
        "colab": {
          "base_uri": "https://localhost:8080/"
        },
        "id": "LVCHMqMl_AGH",
        "outputId": "45a99184-8533-4531-cab3-9ceee1427398"
      },
      "outputs": [
        {
          "output_type": "execute_result",
          "data": {
            "text/plain": [
              "2.6666666666666665"
            ]
          },
          "metadata": {},
          "execution_count": 78
        }
      ],
      "source": [
        "# Overwrite variable with new value\n",
        "\n",
        "x = x / 60\n",
        "x"
      ]
    },
    {
      "cell_type": "markdown",
      "metadata": {
        "id": "NSa0MctD_AGH"
      },
      "source": [
        "<p>It's a good practice to use meaningful variable names, so you and others can read the code and understand it more easily:</p>\n"
      ]
    },
    {
      "cell_type": "code",
      "execution_count": null,
      "metadata": {
        "colab": {
          "base_uri": "https://localhost:8080/"
        },
        "id": "AkbArQSe_AGH",
        "outputId": "bf5fb1aa-97d7-4b96-f7eb-6a8f02d5d293"
      },
      "outputs": [
        {
          "output_type": "execute_result",
          "data": {
            "text/plain": [
              "142"
            ]
          },
          "metadata": {},
          "execution_count": 79
        }
      ],
      "source": [
        "# Name the variables meaningfully\n",
        "\n",
        "total_min = 43 + 42 + 57 # Total length of albums in minutes\n",
        "total_min"
      ]
    },
    {
      "cell_type": "code",
      "execution_count": null,
      "metadata": {
        "colab": {
          "base_uri": "https://localhost:8080/"
        },
        "id": "pF9RxcWB_AGH",
        "outputId": "f4e506e1-60a8-4746-a55e-74fc48fef973"
      },
      "outputs": [
        {
          "output_type": "execute_result",
          "data": {
            "text/plain": [
              "2.3666666666666667"
            ]
          },
          "metadata": {},
          "execution_count": 82
        }
      ],
      "source": [
        "# Name the variables meaningfully\n",
        "\n",
        "total_hours = total_min / 60 # Total length of albums in hours \n",
        "total_hours"
      ]
    },
    {
      "cell_type": "markdown",
      "metadata": {
        "id": "36j48GqE_AGH"
      },
      "source": [
        "<p>In the cells above we added the length of three albums in minutes and stored it in <code>total_min</code>. We then divided it by 60 to calculate total length <code>total_hours</code> in hours. You can also do it all at once in a single expression, as long as you use parenthesis to add the albums length before you divide, as shown below.</p>\n"
      ]
    },
    {
      "cell_type": "code",
      "execution_count": null,
      "metadata": {
        "colab": {
          "base_uri": "https://localhost:8080/"
        },
        "id": "AtYcAMme_AGH",
        "outputId": "211e41d4-a1a1-4f44-c424-65b7d0afe8b9"
      },
      "outputs": [
        {
          "output_type": "execute_result",
          "data": {
            "text/plain": [
              "2.3666666666666667"
            ]
          },
          "metadata": {},
          "execution_count": 83
        }
      ],
      "source": [
        "# Complicate expression\n",
        "\n",
        "total_hours = (43 + 42 + 57) / 60  # Total hours in a single expression\n",
        "total_hours"
      ]
    },
    {
      "cell_type": "markdown",
      "metadata": {
        "id": "pUg4NNwg_AGI"
      },
      "source": [
        "<p>If you'd rather have total hours as an integer, you can of course replace the floating point division with integer division (i.e., <code>//</code>).</p>\n"
      ]
    },
    {
      "cell_type": "markdown",
      "metadata": {
        "id": "zVmVdLnG_AGI"
      },
      "source": [
        "<h3 id=\"exer_exp_var\">Exercise: Expression and Variables in Python</h3>\n"
      ]
    },
    {
      "cell_type": "markdown",
      "metadata": {
        "id": "wOpWQ8e1_AGI"
      },
      "source": [
        "<p>What is the value of <code>x</code> where <code>x = 3 + 2 * 2</code></p>\n"
      ]
    },
    {
      "cell_type": "code",
      "execution_count": null,
      "metadata": {
        "colab": {
          "base_uri": "https://localhost:8080/"
        },
        "id": "DX6nqky7_AGI",
        "outputId": "93705c11-9dd7-4f65-827a-be6cca37c05c"
      },
      "outputs": [
        {
          "output_type": "execute_result",
          "data": {
            "text/plain": [
              "7"
            ]
          },
          "metadata": {},
          "execution_count": 99
        }
      ],
      "source": [
        "# Write your code below. Don't forget to press Shift+Enter to execute the cell\n",
        "X = 3 + 2 * 2\n",
        "X"
      ]
    },
    {
      "cell_type": "markdown",
      "metadata": {
        "id": "Cxz9t5gP_AGI"
      },
      "source": [
        "<details><summary>Click here for the solution</summary>\n",
        "\n",
        "```python\n",
        "7\n",
        "\n",
        "```\n",
        "\n",
        "</details>\n"
      ]
    },
    {
      "cell_type": "markdown",
      "metadata": {
        "id": "_1rWHz8E_AGI"
      },
      "source": [
        "<p>What is the value of <code>y</code> where <code>y = (3 + 2) * 2</code>?</p>\n"
      ]
    },
    {
      "cell_type": "code",
      "execution_count": null,
      "metadata": {
        "colab": {
          "base_uri": "https://localhost:8080/"
        },
        "id": "pl9FjdVy_AGI",
        "outputId": "057583ed-57e6-4b4f-f210-a3e6cbb5c78e"
      },
      "outputs": [
        {
          "output_type": "execute_result",
          "data": {
            "text/plain": [
              "10"
            ]
          },
          "metadata": {},
          "execution_count": 100
        }
      ],
      "source": [
        "# Write your code below. Don't forget to press Shift+Enter to execute the cell\n",
        "Y = (3 + 2) * 2\n",
        "Y"
      ]
    },
    {
      "cell_type": "markdown",
      "metadata": {
        "id": "xzmRATOK_AGJ"
      },
      "source": [
        "<details><summary>Click here for the solution</summary>\n",
        "\n",
        "```python\n",
        "10\n",
        "\n",
        "```\n",
        "\n",
        "</details>\n"
      ]
    },
    {
      "cell_type": "markdown",
      "metadata": {
        "id": "6LRs0gUF_AGJ"
      },
      "source": [
        "<p>What is the value of <code>z</code> where <code>z = x + y</code>?</p>\n"
      ]
    },
    {
      "cell_type": "code",
      "execution_count": null,
      "metadata": {
        "colab": {
          "base_uri": "https://localhost:8080/"
        },
        "id": "sDzxGa1I_AGJ",
        "outputId": "69d7c7c0-3e29-450b-cf67-469201bed307"
      },
      "outputs": [
        {
          "output_type": "execute_result",
          "data": {
            "text/plain": [
              "17"
            ]
          },
          "metadata": {},
          "execution_count": 101
        }
      ],
      "source": [
        "# Write your code below. Don't forget to press Shift+Enter to execute the cell\n",
        "Z = X + Y\n",
        "Z"
      ]
    },
    {
      "cell_type": "markdown",
      "metadata": {
        "id": "6FkDhd5E_AGJ"
      },
      "source": [
        "<details><summary>Click here for the solution</summary>\n",
        "\n",
        "```python\n",
        "17\n",
        "\n",
        "```\n",
        "\n",
        "</details>\n"
      ]
    },
    {
      "cell_type": "markdown",
      "metadata": {
        "id": "kRyf903Q_AGJ"
      },
      "source": [
        "<hr>\n",
        "<h2>The last exercise!</h2>\n",
        "<p>Congratulations, you have completed your first lesson and hands-on lab in Python.\n",
        "<hr>\n"
      ]
    },
    {
      "cell_type": "markdown",
      "metadata": {
        "id": "fIXXtmJy_AGJ"
      },
      "source": [
        "## Author\n",
        "\n",
        "<a href=\"https://www.linkedin.com/in/joseph-s-50398b136/?utm_medium=Exinfluencer&utm_source=Exinfluencer&utm_content=000026UJ&utm_term=10006555&utm_id=NA-SkillsNetwork-Channel-SkillsNetworkCoursesIBMDeveloperSkillsNetworkPY0101ENSkillsNetwork19487395-2022-01-01\" target=\"_blank\">Joseph Santarcangelo</a>\n",
        "\n",
        "## Other contributors\n",
        "\n",
        "<a href=\"https://www.linkedin.com/in/jiahui-mavis-zhou-a4537814a?utm_medium=Exinfluencer&utm_source=Exinfluencer&utm_content=000026UJ&utm_term=10006555&utm_id=NA-SkillsNetwork-Channel-SkillsNetworkCoursesIBMDeveloperSkillsNetworkPY0101ENSkillsNetwork19487395-2022-01-01\">Mavis Zhou</a>\n",
        "\n",
        "## Change Log\n",
        "\n",
        "| Date (YYYY-MM-DD) | Version | Changed By | Change Description                 |\n",
        "| ----------------- | ------- | ---------- | ---------------------------------- |\n",
        "| 2022-01-10        | 2.1     | Malika     | Removed the readme for GitShare    |\n",
        "| 2020-08-26        | 2.0     | Lavanya    | Moved lab to course repo in GitLab |\n",
        "|                   |         |            |                                    |\n",
        "|                   |         |            |                                    |\n",
        "\n",
        "## <h3 align=\"center\"> © IBM Corporation 2020. All rights reserved. <h3/>\n"
      ]
    }
  ],
  "metadata": {
    "kernelspec": {
      "display_name": "Python 3 (ipykernel)",
      "language": "python",
      "name": "python3"
    },
    "language_info": {
      "codemirror_mode": {
        "name": "ipython",
        "version": 3
      },
      "file_extension": ".py",
      "mimetype": "text/x-python",
      "name": "python",
      "nbconvert_exporter": "python",
      "pygments_lexer": "ipython3",
      "version": "3.9.13"
    },
    "colab": {
      "provenance": [],
      "include_colab_link": true
    }
  },
  "nbformat": 4,
  "nbformat_minor": 0
}